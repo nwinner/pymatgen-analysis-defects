{
 "cells": [
  {
   "cell_type": "markdown",
   "id": "d459a8d1-492d-4ad6-954e-c982a6d7a4b0",
   "metadata": {},
   "source": [
    "# Simulation of Radiative Capture"
   ]
  },
  {
   "cell_type": "code",
   "execution_count": null,
   "id": "c402b1a9-1a07-4c4d-b075-942240c19d18",
   "metadata": {},
   "outputs": [],
   "source": [
    "%load_ext autoreload\n",
    "%autoreload 2\n",
    "from pathlib import Path\n",
    "\n",
    "import numpy as np\n",
    "from matplotlib import pyplot as plt\n",
    "from pymatgen.analysis.defects.ccd import HarmonicDefect, RadiativeCatpture\n",
    "\n",
    "TEST_FILES = Path(\"../tests/test_files/v_Ga/\")"
   ]
  },
  {
   "cell_type": "code",
   "execution_count": null,
   "id": "304cc8e5-ea11-43a1-acd4-0775c1161d1a",
   "metadata": {},
   "outputs": [
    {
     "name": "stdout",
     "output_type": "stream",
     "text": [
      "POTCAR      PROCAR      WAVEDER     vasprun.xml\n"
     ]
    }
   ],
   "source": [
    "!ls \"../tests/test_files/v_Ga/ccd_0_-1/1\""
   ]
  },
  {
   "cell_type": "code",
   "execution_count": null,
   "id": "647e7395-c0e0-40ac-b92e-79c784688926",
   "metadata": {},
   "outputs": [
    {
     "name": "stderr",
     "output_type": "stream",
     "text": [
      "/Users/shen9/repos/mp/pymatgen/pymatgen/io/vasp/inputs.py:1822: UnknownPotcarWarning: POTCAR with symbol Ga_d has metadata that does not match                          any VASP POTCAR known to pymatgen. The data in this                          POTCAR is known to match the following functionals:                          ['PBE_54', 'PBE_52', 'unvie_PBE_52']\n",
      "  warnings.warn(\n",
      "/Users/shen9/repos/mp/pymatgen/pymatgen/io/vasp/inputs.py:1822: UnknownPotcarWarning: POTCAR with symbol N has metadata that does not match                          any VASP POTCAR known to pymatgen. The data in this                          POTCAR is known to match the following functionals:                          ['PBE_54', 'PBE_52', 'unvie_PBE_52']\n",
      "  warnings.warn(\n"
     ]
    }
   ],
   "source": [
    "rad_cap = RadiativeCatpture.from_directories(\n",
    "    initial_dirs=[TEST_FILES / \"ccd_0_-1\" / str(i) for i in [0, 1, 2]],\n",
    "    final_dirs=[TEST_FILES / \"ccd_-1_0\" / str(i) for i in [0, 1, 2]],\n",
    "    waveder_dir=TEST_FILES / \"ccd_0_-1\" / \"1\",\n",
    "    kpt_index=1,\n",
    "    store_bandstructure=True,\n",
    ")"
   ]
  },
  {
   "cell_type": "code",
   "execution_count": null,
   "id": "68544760-e41d-4bf9-9284-f03ceee29282",
   "metadata": {},
   "outputs": [
    {
     "data": {
      "text/plain": [
       "1"
      ]
     },
     "execution_count": null,
     "metadata": {},
     "output_type": "execute_result"
    }
   ],
   "source": [
    "rad_cap.initial_state.spin_index"
   ]
  },
  {
   "cell_type": "code",
   "execution_count": null,
   "id": "4f82bae4-71a9-4d36-a84b-ad7f00292c47",
   "metadata": {},
   "outputs": [
    {
     "data": {
      "text/plain": [
       "array([[-2.3710303e-09+1.8139924e-09j,  1.2884794e-04-4.3552439e-10j,\n",
       "         7.0389902e-04+8.6381546e-10j],\n",
       "       [ 2.5248382e+00+1.5214415e+00j,  1.9807255e-08-2.6426321e-07j,\n",
       "         3.6453662e-07+3.8197081e-07j],\n",
       "       [ 8.5527748e-02+4.5592081e-02j, -1.3496606e-07-2.4558861e-07j,\n",
       "         3.6287055e-08-2.4894685e-08j]], dtype=complex64)"
      ]
     },
     "execution_count": null,
     "metadata": {},
     "output_type": "execute_result"
    }
   ],
   "source": [
    "rad_cap._get_defect_dipoles()[\n",
    "    rad_cap.initial_state.defect_band_index : rad_cap.initial_state.defect_band_index\n",
    "    + 3,\n",
    "    rad_cap.initial_state.kpt_index,\n",
    "    rad_cap.initial_state.spin_index,\n",
    "    :,\n",
    "]"
   ]
  },
  {
   "cell_type": "code",
   "execution_count": null,
   "id": "8bbcdc73-ec99-4a88-84ed-45fb1c37cfbf",
   "metadata": {},
   "outputs": [
    {
     "data": {
      "text/plain": [
       "\u001b[0;31mSignature:\u001b[0m\n",
       "\u001b[0mrad_cap\u001b[0m\u001b[0;34m.\u001b[0m\u001b[0mget_coeff\u001b[0m\u001b[0;34m(\u001b[0m\u001b[0;34m\u001b[0m\n",
       "\u001b[0;34m\u001b[0m    \u001b[0mT\u001b[0m\u001b[0;34m:\u001b[0m \u001b[0;34m'float | npt.ArrayLike'\u001b[0m\u001b[0;34m,\u001b[0m\u001b[0;34m\u001b[0m\n",
       "\u001b[0;34m\u001b[0m    \u001b[0mdE\u001b[0m\u001b[0;34m:\u001b[0m \u001b[0;34m'float'\u001b[0m\u001b[0;34m,\u001b[0m\u001b[0;34m\u001b[0m\n",
       "\u001b[0;34m\u001b[0m    \u001b[0momega_photon\u001b[0m\u001b[0;34m:\u001b[0m \u001b[0;34m'float'\u001b[0m\u001b[0;34m,\u001b[0m\u001b[0;34m\u001b[0m\n",
       "\u001b[0;34m\u001b[0m    \u001b[0mvolume\u001b[0m\u001b[0;34m:\u001b[0m \u001b[0;34m'float | None'\u001b[0m \u001b[0;34m=\u001b[0m \u001b[0;32mNone\u001b[0m\u001b[0;34m,\u001b[0m\u001b[0;34m\u001b[0m\n",
       "\u001b[0;34m\u001b[0m    \u001b[0mg\u001b[0m\u001b[0;34m:\u001b[0m \u001b[0;34m'int'\u001b[0m \u001b[0;34m=\u001b[0m \u001b[0;36m1\u001b[0m\u001b[0;34m,\u001b[0m\u001b[0;34m\u001b[0m\n",
       "\u001b[0;34m\u001b[0m    \u001b[0mocc_tol\u001b[0m\u001b[0;34m:\u001b[0m \u001b[0;34m'float'\u001b[0m \u001b[0;34m=\u001b[0m \u001b[0;36m0.001\u001b[0m\u001b[0;34m,\u001b[0m\u001b[0;34m\u001b[0m\n",
       "\u001b[0;34m\u001b[0m    \u001b[0mn_band_edge\u001b[0m\u001b[0;34m:\u001b[0m \u001b[0;34m'int'\u001b[0m \u001b[0;34m=\u001b[0m \u001b[0;36m1\u001b[0m\u001b[0;34m,\u001b[0m\u001b[0;34m\u001b[0m\n",
       "\u001b[0;34m\u001b[0m\u001b[0;34m)\u001b[0m\u001b[0;34m\u001b[0m\u001b[0;34m\u001b[0m\u001b[0m\n",
       "\u001b[0;31mDocstring:\u001b[0m Calculate the SRH recombination coefficient.\n",
       "\u001b[0;31mFile:\u001b[0m      ~/repos/mp/pymatgen-analysis-defects/pymatgen/analysis/defects/ccd.py\n",
       "\u001b[0;31mType:\u001b[0m      method\n"
      ]
     },
     "metadata": {},
     "output_type": "display_data"
    }
   ],
   "source": [
    "rad_cap.get_coeff?"
   ]
  },
  {
   "cell_type": "code",
   "execution_count": null,
   "id": "1f8c0a53-18e4-4768-9750-9125e1f93e25",
   "metadata": {},
   "outputs": [],
   "source": [
    "T = np.linspace(100, 1000, 20)\n",
    "rc = rad_cap.get_coeff(T, 0.7, 0.4)"
   ]
  },
  {
   "cell_type": "code",
   "execution_count": null,
   "id": "dee612cd-5b03-465c-9e63-5b7c0b0978fc",
   "metadata": {},
   "outputs": [
    {
     "data": {
      "text/plain": [
       "Text(0, 0.5, 'Radiative Capture Rate\\n[Arb. Units]')"
      ]
     },
     "execution_count": null,
     "metadata": {},
     "output_type": "execute_result"
    },
    {
     "data": {
      "image/png": "[encoded data removed]",
      "text/plain": [
       "<Figure size 432x288 with 1 Axes>"
      ]
     },
     "metadata": {
      "needs_background": "light"
     },
     "output_type": "display_data"
    }
   ],
   "source": [
    "plt.plot(T, rc)\n",
    "plt.xlabel(\"Temp. [K]\")\n",
    "plt.ylabel(\"Radiative Capture Rate\\n[Arb. Units]\")\n",
    "# plt.yticks([])"
   ]
  },
  {
   "cell_type": "code",
   "execution_count": null,
   "id": "096e5b5d-f725-49e1-b304-e8259e303fae",
   "metadata": {},
   "outputs": [
    {
     "data": {
      "text/plain": [
       "0.505465736152237"
      ]
     },
     "execution_count": null,
     "metadata": {},
     "output_type": "execute_result"
    }
   ],
   "source": [
    "rad_cap.initial_state.omega"
   ]
  },
  {
   "cell_type": "markdown",
   "id": "5d6ae266-706b-4086-8c72-4dda7e5ce742",
   "metadata": {},
   "source": [
    "# Sanity Checks"
   ]
  },
  {
   "cell_type": "code",
   "execution_count": null,
   "id": "2b93dcf3-6836-4333-ac7e-cd5c0af49209",
   "metadata": {},
   "outputs": [],
   "source": [
    "from copy import deepcopy\n",
    "\n",
    "fake_final = deepcopy(rad_cap.initial_state)\n",
    "fake_final.charge_state = -1\n",
    "fake_final2 = deepcopy(rad_cap.initial_state)\n",
    "fake_final2.charge_state = -1\n",
    "fake_final2.omega = 0.7"
   ]
  },
  {
   "cell_type": "code",
   "execution_count": null,
   "id": "cf555c25-7575-436e-95d5-7622d2a622a4",
   "metadata": {
    "tags": []
   },
   "outputs": [
    {
     "name": "stderr",
     "output_type": "stream",
     "text": [
      "/Users/shen9/local/Caskroom/miniconda/base/envs/mp/lib/python3.10/site-packages/matplotlib/cbook/__init__.py:1298: ComplexWarning: Casting complex values to real discards the imaginary part\n",
      "  return np.asarray(x, float)\n"
     ]
    },
    {
     "data": {
      "text/plain": [
       "([], [])"
      ]
     },
     "execution_count": null,
     "metadata": {},
     "output_type": "execute_result"
    },
    {
     "data": {
      "image/png": "[encoded data removed]",
      "text/plain": [
       "<Figure size 432x288 with 1 Axes>"
      ]
     },
     "metadata": {
      "needs_background": "light"
     },
     "output_type": "display_data"
    }
   ],
   "source": [
    "rcap = RadiativeCatpture(\n",
    "    initial_state=rad_cap.initial_state,\n",
    "    final_state=fake_final2,\n",
    "    dQ=0.0,\n",
    "    waveder=rad_cap.waveder,\n",
    ")\n",
    "dE = 1.0\n",
    "omega_photon = np.linspace(0.5, 1.0, 100)\n",
    "res = [rcap.get_coeff(T=600, dE=dE, omega_photon=op) for op in omega_photon]\n",
    "plt.plot(omega_photon, res)\n",
    "plt.xlabel(\"Photon energy [eV]\")\n",
    "plt.ylabel(\"Radiative Capture Rate\\n[Arb. Units]\")\n",
    "plt.yticks([])"
   ]
  },
  {
   "cell_type": "code",
   "execution_count": null,
   "id": "e26f754c-1c02-4d86-bd6f-c433a0376b6d",
   "metadata": {},
   "outputs": [
    {
     "data": {
      "text/plain": [
       "[<matplotlib.lines.Line2D at 0x2a787feb0>]"
      ]
     },
     "execution_count": null,
     "metadata": {},
     "output_type": "execute_result"
    },
    {
     "data": {
      "image/png": "[encoded data removed]",
      "text/plain": [
       "<Figure size 432x288 with 1 Axes>"
      ]
     },
     "metadata": {
      "needs_background": "light"
     },
     "output_type": "display_data"
    }
   ],
   "source": [
    "rcap = RadiativeCatpture(\n",
    "    initial_state=rad_cap.initial_state,\n",
    "    final_state=fake_final,\n",
    "    dQ=0.0,\n",
    "    waveder=rad_cap.waveder,\n",
    ")\n",
    "dE = 1.0\n",
    "omega_photon = np.linspace(0.9, 1.5, 100)\n",
    "res = [rcap.get_coeff(T=600, dE=dE, omega_photon=op) for op in omega_photon]\n",
    "plt.plot(omega_photon, res)"
   ]
  },
  {
   "cell_type": "code",
   "execution_count": null,
   "id": "d17c2795-5dd3-4000-96da-81ff8d876ed9",
   "metadata": {},
   "outputs": [
    {
     "name": "stderr",
     "output_type": "stream",
     "text": [
      "/Users/shen9/local/Caskroom/miniconda/base/envs/mp/lib/python3.10/site-packages/numpy/ma/core.py:3377: ComplexWarning: Casting complex values to real discards the imaginary part\n",
      "  _data[indx] = dval\n"
     ]
    },
    {
     "data": {
      "text/plain": [
       "([], [])"
      ]
     },
     "execution_count": null,
     "metadata": {},
     "output_type": "execute_result"
    },
    {
     "data": {
      "image/png": "[encoded data removed]",
      "text/plain": [
       "<Figure size 432x288 with 1 Axes>"
      ]
     },
     "metadata": {
      "needs_background": "light"
     },
     "output_type": "display_data"
    }
   ],
   "source": [
    "rcap = RadiativeCatpture(\n",
    "    initial_state=rad_cap.initial_state,\n",
    "    final_state=fake_final,\n",
    "    dQ=1.0,\n",
    "    waveder=rad_cap.waveder,\n",
    ")\n",
    "dE = 1.0\n",
    "omega_photon = np.linspace(0.5, 1.5, 100)\n",
    "res = [rcap.get_coeff(T=600, dE=dE, omega_photon=op) for op in omega_photon]\n",
    "plt.plot(omega_photon, res)\n",
    "plt.vlines(0.8722521947880386, min(res), max(res), colors=\"red\")\n",
    "plt.xlabel(\"Photon energy [eV]\")\n",
    "plt.ylabel(\"Radiative Capture Rate\\n[Arb. Units]\")\n",
    "plt.yticks([])"
   ]
  },
  {
   "cell_type": "code",
   "execution_count": null,
   "id": "92a2c191-d426-4193-95e3-750c6ba7bfda",
   "metadata": {
    "tags": []
   },
   "outputs": [
    {
     "data": {
      "text/plain": [
       "Text(0, 0.5, 'Energy [eV]')"
      ]
     },
     "execution_count": null,
     "metadata": {},
     "output_type": "execute_result"
    },
    {
     "data": {
      "image/png": "[encoded data removed]",
      "text/plain": [
       "<Figure size 432x288 with 1 Axes>"
      ]
     },
     "metadata": {
      "needs_background": "light"
     },
     "output_type": "display_data"
    }
   ],
   "source": [
    "hd0 = rad_cap.initial_state\n",
    "\n",
    "plt.plot(\n",
    "    hd0.distortions,\n",
    "    (np.array(hd0.energies) - hd0.energies[hd0.relaxed_index]),\n",
    "    \"o\",\n",
    "    ms=10,\n",
    ")\n",
    "\n",
    "xx = np.linspace(-2, 2, 20)\n",
    "yy = 0.5 * hd0.omega**2 * xx**2\n",
    "\n",
    "xx2 = np.linspace(-2, 2, 20) + 1\n",
    "yy2 = 0.5 * hd0.omega**2 * xx**2 - 1\n",
    "\n",
    "plt.plot(xx, yy)\n",
    "plt.plot(xx2, yy2)\n",
    "plt.xlabel(\"Q [amu$^{1/2}$Å]\")\n",
    "plt.ylabel(\"Energy [eV]\")"
   ]
  },
  {
   "cell_type": "code",
   "execution_count": null,
   "id": "ffe3e4b9-c660-4e08-bd26-d0ee34c74237",
   "metadata": {},
   "outputs": [
    {
     "data": {
      "text/plain": [
       "Text(0, 0.5, 'Energy [eV]')"
      ]
     },
     "execution_count": null,
     "metadata": {},
     "output_type": "execute_result"
    },
    {
     "data": {
      "image/png": "[encoded data removed]",
      "text/plain": [
       "<Figure size 432x288 with 1 Axes>"
      ]
     },
     "metadata": {
      "needs_background": "light"
     },
     "output_type": "display_data"
    }
   ],
   "source": [
    "hd0 = rad_cap.initial_state\n",
    "\n",
    "plt.plot(\n",
    "    hd0.distortions,\n",
    "    (np.array(hd0.energies) - hd0.energies[hd0.relaxed_index]),\n",
    "    \"o\",\n",
    "    ms=10,\n",
    ")\n",
    "\n",
    "xx = np.linspace(-2, 2, 20)\n",
    "yy = 0.5 * hd0.omega**2 * xx**2\n",
    "\n",
    "xx2 = np.linspace(-2, 2, 20) + 1\n",
    "yy2 = 0.5 * hd0.omega**2 * xx**2 - 1\n",
    "\n",
    "plt.plot(xx, yy)\n",
    "plt.plot(xx2-1, yy2)\n",
    "plt.xlabel(\"Q [amu$^{1/2}$Å]\")\n",
    "plt.ylabel(\"Energy [eV]\")"
   ]
  },
  {
   "cell_type": "code",
   "execution_count": null,
   "id": "b88aec34-1961-43e9-8858-6258c195a825",
   "metadata": {},
   "outputs": [
    {
     "data": {
      "text/plain": [
       "0.8722521947880386"
      ]
     },
     "execution_count": null,
     "metadata": {},
     "output_type": "execute_result"
    }
   ],
   "source": [
    "1 - 0.5 * hd0.omega**2 * 1**2"
   ]
  },
  {
   "cell_type": "code",
   "execution_count": null,
   "id": "d6785a3a-b764-4248-ac5d-ae9fcb0feb3e",
   "metadata": {},
   "outputs": [
    {
     "name": "stderr",
     "output_type": "stream",
     "text": [
      "/Users/shen9/repos/mp/pymatgen/pymatgen/analysis/phase_diagram.py:26: TqdmExperimentalWarning: Using `tqdm.autonotebook.tqdm` in notebook mode. Use `tqdm.tqdm` instead to force console mode (e.g. in jupyter console)\n",
      "  from tqdm.autonotebook import tqdm\n"
     ]
    }
   ],
   "source": [
    "import crystal_toolkit"
   ]
  },
  {
   "cell_type": "code",
   "execution_count": null,
   "id": "4c1f3086-983d-4406-90f9-7b249826795a",
   "metadata": {},
   "outputs": [],
   "source": [
    "import crystal_toolkit\n",
    "from pymatgen.analysis.graphs import StructureGraph\n",
    "from pymatgen.analysis.local_env import CrystalNN\n",
    "from pymatgen.core import Structure\n",
    "\n",
    "\n",
    "def view(ss):\n",
    "    return StructureGraph.with_local_env_strategy(ss, CrystalNN()).get_scene()"
   ]
  },
  {
   "cell_type": "code",
   "execution_count": null,
   "id": "b717d32b-fb20-4ce2-b305-ea41c3b6d2a9",
   "metadata": {},
   "outputs": [],
   "source": [
    "struct = Structure.from_file(\"/Users/shen9/Desktop/CONTCAR.vasp\")"
   ]
  },
  {
   "cell_type": "code",
   "execution_count": null,
   "id": "f83343c7-0e14-4c15-b0a5-b9e2dde6fef2",
   "metadata": {},
   "outputs": [],
   "source": [
    "a = 1\n",
    "struct.to(\"poscar\", \"/Users/shen9/Desktop/tmp.vasp\")"
   ]
  },
  {
   "cell_type": "code",
   "execution_count": null,
   "id": "6250c46d-c752-4163-8d35-ffa107a71a9b",
   "metadata": {},
   "outputs": [
    {
     "ename": "TypeError",
     "evalue": "IStructure.from_file() got an unexpected keyword argument 'validate_proximity'",
     "output_type": "error",
     "traceback": [
      "\u001b[0;31m---------------------------------------------------------------------------\u001b[0m",
      "\u001b[0;31mTypeError\u001b[0m                                 Traceback (most recent call last)",
      "Input \u001b[0;32mIn [120]\u001b[0m, in \u001b[0;36m<cell line: 1>\u001b[0;34m()\u001b[0m\n\u001b[0;32m----> 1\u001b[0m struct \u001b[38;5;241m=\u001b[39m \u001b[43mStructure\u001b[49m\u001b[38;5;241;43m.\u001b[39;49m\u001b[43mfrom_file\u001b[49m\u001b[43m(\u001b[49m\u001b[38;5;124;43m\"\u001b[39;49m\u001b[38;5;124;43m/Users/shen9/Desktop/tmp.vasp\u001b[39;49m\u001b[38;5;124;43m\"\u001b[39;49m\u001b[43m,\u001b[49m\u001b[43m \u001b[49m\u001b[43mvalidate_proximity\u001b[49m\u001b[38;5;241;43m=\u001b[39;49m\u001b[38;5;28;43;01mTrue\u001b[39;49;00m\u001b[43m)\u001b[49m\n",
      "\u001b[0;31mTypeError\u001b[0m: IStructure.from_file() got an unexpected keyword argument 'validate_proximity'"
     ]
    }
   ],
   "source": [
    "struct = Structure.from_file(\"/Users/shen9/Desktop/tmp.vasp\")"
   ]
  },
  {
   "cell_type": "code",
   "execution_count": null,
   "id": "adffe2c4-3766-4c50-beca-e431334504eb",
   "metadata": {},
   "outputs": [
    {
     "data": {
      "text/plain": [
       "4"
      ]
     },
     "execution_count": null,
     "metadata": {},
     "output_type": "execute_result"
    }
   ],
   "source": [
    "4 & -4"
   ]
  },
  {
   "cell_type": "code",
   "execution_count": null,
   "id": "8bc5327b-1988-4b84-9b64-ece2bf35256b",
   "metadata": {},
   "outputs": [
    {
     "data": {
      "text/plain": [
       "1"
      ]
     },
     "execution_count": null,
     "metadata": {},
     "output_type": "execute_result"
    }
   ],
   "source": [
    "5 & -5"
   ]
  },
  {
   "cell_type": "code",
   "execution_count": null,
   "id": "dab5c9e8-f63e-4bef-88ce-ffec6d7a7824",
   "metadata": {},
   "outputs": [
    {
     "data": {
      "text/plain": [
       "2"
      ]
     },
     "execution_count": null,
     "metadata": {},
     "output_type": "execute_result"
    }
   ],
   "source": [
    "6 & -6"
   ]
  },
  {
   "cell_type": "code",
   "execution_count": null,
   "id": "fc2b147d-af54-47e1-94f6-b20a94bdc636",
   "metadata": {},
   "outputs": [
    {
     "data": {
      "text/plain": [
       "8"
      ]
     },
     "execution_count": null,
     "metadata": {},
     "output_type": "execute_result"
    }
   ],
   "source": [
    "24 & -24"
   ]
  },
  {
   "cell_type": "code",
   "execution_count": null,
   "id": "9cc5a384-4b1e-4c79-97b0-27f435bd7d2f",
   "metadata": {},
   "outputs": [
    {
     "data": {
      "text/plain": [
       "'0b11000'"
      ]
     },
     "execution_count": null,
     "metadata": {},
     "output_type": "execute_result"
    }
   ],
   "source": [
    "bin(24)"
   ]
  },
  {
   "cell_type": "code",
   "execution_count": null,
   "id": "56a8e473-815d-4c58-aef2-011f1ef6e564",
   "metadata": {},
   "outputs": [
    {
     "data": {
      "text/plain": [
       "'-0b11000'"
      ]
     },
     "execution_count": null,
     "metadata": {},
     "output_type": "execute_result"
    }
   ],
   "source": [
    "bin(-24)"
   ]
  },
  {
   "cell_type": "code",
   "execution_count": null,
   "id": "b053d201-5d34-4c2f-9872-62633b395842",
   "metadata": {},
   "outputs": [],
   "source": [
    "x = 25"
   ]
  },
  {
   "cell_type": "code",
   "execution_count": null,
   "id": "81fa1a86-8701-472f-814b-2b2f74c893b0",
   "metadata": {},
   "outputs": [
    {
     "data": {
      "text/plain": [
       "-25"
      ]
     },
     "execution_count": null,
     "metadata": {},
     "output_type": "execute_result"
    }
   ],
   "source": [
    "~x+1"
   ]
  },
  {
   "cell_type": "code",
   "execution_count": null,
   "id": "d485f3fa-f565-4bce-916d-5d9b1ebd7e2c",
   "metadata": {},
   "outputs": [
    {
     "data": {
      "text/plain": [
       "25"
      ]
     },
     "execution_count": null,
     "metadata": {},
     "output_type": "execute_result"
    }
   ],
   "source": [
    "x"
   ]
  },
  {
   "cell_type": "code",
   "execution_count": null,
   "id": "4264ced7-77d5-4da8-87eb-0d235bdb6933",
   "metadata": {},
   "outputs": [
    {
     "data": {
      "text/plain": [
       "0"
      ]
     },
     "execution_count": null,
     "metadata": {},
     "output_type": "execute_result"
    }
   ],
   "source": [
    "x & (x - 1)"
   ]
  },
  {
   "cell_type": "code",
   "execution_count": null,
   "id": "cd234814-e96b-43ad-a351-b9b45c33f968",
   "metadata": {},
   "outputs": [
    {
     "data": {
      "text/plain": [
       "0"
      ]
     },
     "execution_count": null,
     "metadata": {},
     "output_type": "execute_result"
    }
   ],
   "source": [
    "x = 32\n",
    "x & (x - 1)"
   ]
  },
  {
   "cell_type": "code",
   "execution_count": null,
   "id": "d8867d0d-58d2-4618-bf8c-9a64a04765a4",
   "metadata": {},
   "outputs": [
    {
     "data": {
      "text/plain": [
       "21.0"
      ]
     },
     "execution_count": null,
     "metadata": {},
     "output_type": "execute_result"
    }
   ],
   "source": [
    "42 / 2"
   ]
  },
  {
   "cell_type": "code",
   "execution_count": null,
   "id": "74bb8395-cf8b-4d0b-8bc2-0d5bfc60b130",
   "metadata": {},
   "outputs": [
    {
     "data": {
      "text/plain": [
       "1"
      ]
     },
     "execution_count": null,
     "metadata": {},
     "output_type": "execute_result"
    }
   ],
   "source": [
    "n = 17\n",
    "n & -n"
   ]
  },
  {
   "cell_type": "code",
   "execution_count": null,
   "id": "4b98771f-d384-4607-b19a-0636a50622bf",
   "metadata": {},
   "outputs": [
    {
     "data": {
      "text/plain": [
       "16"
      ]
     },
     "execution_count": null,
     "metadata": {},
     "output_type": "execute_result"
    }
   ],
   "source": [
    "(n & -n)"
   ]
  }
 ],
 "metadata": {
  "kernelspec": {
   "display_name": "mp",
   "language": "python",
   "name": "mp"
  },
  "language_info": {
   "codemirror_mode": {
    "name": "ipython",
    "version": 3
   },
   "file_extension": ".py",
   "mimetype": "text/x-python",
   "name": "python",
   "nbconvert_exporter": "python",
   "pygments_lexer": "ipython3",
   "version": "3.10.6"
  }
 },
 "nbformat": 4,
 "nbformat_minor": 5
}
