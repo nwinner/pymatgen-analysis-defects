{
 "cells": [
  {
   "cell_type": "markdown",
   "metadata": {},
   "source": [
    "# Defining Defects \n",
    "\n",
    "A persistent challenge with organizing computational defect data is the ambiguity with which a defect simulation is defined.\n",
    "The standard practice is to simulate the isolated defects by using a larger simultion to create an isolated defect and then using charge-state corrections to approximate the properties of a defect in the dilute limit.\n",
    "This means that the same defect can be simulated with different simulation cells.\n",
    "Ideally, if you want to build a computational defects database you will need some way to check if different simulations represent the same defect.\n",
    "\n",
    "A core concept in this packge is that a defect is defined indepently of the simultion cell.\n",
    "All of the information about which defect we are simulating is captured by the `Defect` object.\n",
    "A point defect is defined by the Wigner-Seitz cell representation of the bulk material stored as a `structure` attribute,\n",
    "and a `site` attribute that indicates where the defect is in the unit cell.\n",
    "Different kinds of point defects all subclass the `Defect` objects which gives easy access to functions such as generating a cubic simulation supercell.\n",
    "As along as the database or any algorithm keeps track of this `Defect` object, you can just use simple structure matching to find out if two simulations represent the same defect.\n"
   ]
  },
  {
   "cell_type": "markdown",
   "metadata": {},
   "source": [
    "### We can look at a substitutional defect to see how this works."
   ]
  },
  {
   "cell_type": "code",
   "execution_count": null,
   "metadata": {},
   "outputs": [],
   "source": [
    "from pathlib import Path\n",
    "TEST_FILES = Path(\"../tests/test_files\")"
   ]
  },
  {
   "cell_type": "code",
   "execution_count": null,
   "metadata": {},
   "outputs": [
    {
     "ename": "ImportError",
     "evalue": "cannot import name 'Specie' from 'pymatgen.core' (/Users/shen9/local/Caskroom/miniconda/base/envs/mp/lib/python3.10/site-packages/pymatgen/core/__init__.py)",
     "output_type": "error",
     "traceback": [
      "\u001b[0;31m---------------------------------------------------------------------------\u001b[0m",
      "\u001b[0;31mImportError\u001b[0m                               Traceback (most recent call last)",
      "\u001b[1;32m/Users/shen9/repos/mp/pymatgen-analysis-defects/tutorials/2-defining-defects.ipynb Cell 4\u001b[0m in \u001b[0;36m<cell line: 2>\u001b[0;34m()\u001b[0m\n\u001b[1;32m      <a href='vscode-notebook-cell:/Users/shen9/repos/mp/pymatgen-analysis-defects/tutorials/2-defining-defects.ipynb#X13sZmlsZQ%3D%3D?line=0'>1</a>\u001b[0m \u001b[39mfrom\u001b[39;00m \u001b[39mpymatgen\u001b[39;00m\u001b[39m.\u001b[39;00m\u001b[39manalysis\u001b[39;00m\u001b[39m.\u001b[39;00m\u001b[39mdefects\u001b[39;00m\u001b[39m.\u001b[39;00m\u001b[39mcore\u001b[39;00m \u001b[39mimport\u001b[39;00m Substitution\n\u001b[0;32m----> <a href='vscode-notebook-cell:/Users/shen9/repos/mp/pymatgen-analysis-defects/tutorials/2-defining-defects.ipynb#X13sZmlsZQ%3D%3D?line=1'>2</a>\u001b[0m \u001b[39mfrom\u001b[39;00m \u001b[39mpymatgen\u001b[39;00m\u001b[39m.\u001b[39;00m\u001b[39mcore\u001b[39;00m \u001b[39mimport\u001b[39;00m Structure, PeriodicSite, Specie\n\u001b[1;32m      <a href='vscode-notebook-cell:/Users/shen9/repos/mp/pymatgen-analysis-defects/tutorials/2-defining-defects.ipynb#X13sZmlsZQ%3D%3D?line=3'>4</a>\u001b[0m bulk \u001b[39m=\u001b[39m Structure\u001b[39m.\u001b[39mfrom_file(TEST_FILES \u001b[39m/\u001b[39m \u001b[39m\"\u001b[39m\u001b[39mGaN.vasp\u001b[39m\u001b[39m\"\u001b[39m)\n\u001b[1;32m      <a href='vscode-notebook-cell:/Users/shen9/repos/mp/pymatgen-analysis-defects/tutorials/2-defining-defects.ipynb#X13sZmlsZQ%3D%3D?line=4'>5</a>\u001b[0m bulk\u001b[39m.\u001b[39mlattice \u001b[39m==\u001b[39m bulk\u001b[39m.\u001b[39mget_primitive_structure()\u001b[39m.\u001b[39mlattice\n",
      "\u001b[0;31mImportError\u001b[0m: cannot import name 'Specie' from 'pymatgen.core' (/Users/shen9/local/Caskroom/miniconda/base/envs/mp/lib/python3.10/site-packages/pymatgen/core/__init__.py)"
     ]
    }
   ],
   "source": [
    "from pymatgen.analysis.defects.core import Substitution\n",
    "from pymatgen.core import Structure, PeriodicSite, Species\n",
    "\n",
    "bulk = Structure.from_file(TEST_FILES / \"GaN.vasp\")\n",
    "bulk.lattice == bulk.get_primitive_structure().lattice # check that you have the primitive structure"
   ]
  },
  {
   "cell_type": "code",
   "execution_count": null,
   "metadata": {},
   "outputs": [],
   "source": [
    "ga_site = bulk.sites[0]\n",
    "mg_site = PeriodicSite(Species(\"O\"), ga_site.frac_coords, bulk.lattice)\n"
   ]
  },
  {
   "cell_type": "code",
   "execution_count": null,
   "metadata": {},
   "outputs": [
    {
     "data": {
      "text/plain": [
       "O subsitituted on the Ga site at at site #0"
      ]
     },
     "execution_count": null,
     "metadata": {},
     "output_type": "execute_result"
    }
   ],
   "source": [
    "Substitution(structure=bulk, site=mg_site)"
   ]
  }
 ],
 "metadata": {
  "kernelspec": {
   "display_name": "Python 3.10.6 ('mp')",
   "language": "python",
   "name": "python3"
  },
  "language_info": {
   "codemirror_mode": {
    "name": "ipython",
    "version": 3
   },
   "file_extension": ".py",
   "mimetype": "text/x-python",
   "name": "python",
   "nbconvert_exporter": "python",
   "pygments_lexer": "ipython3",
   "version": "3.10.6"
  },
  "vscode": {
   "interpreter": {
    "hash": "68485e4e4f6ba0276341f7d764a6dd3a7d31473cb629faa542bbbd38a80276a6"
   }
  }
 },
 "nbformat": 4,
 "nbformat_minor": 2
}
